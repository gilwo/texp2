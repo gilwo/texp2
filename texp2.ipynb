{
 "cells": [
  {
   "cell_type": "markdown",
   "id": "12499a49",
   "metadata": {},
   "source": [
    "initial imports"
   ]
  },
  {
   "cell_type": "code",
   "execution_count": null,
   "id": "d29f41bc",
   "metadata": {},
   "outputs": [],
   "source": [
    "%matplotlib inline\n",
    "%config InlineBackend.figure_format = 'retina'\n",
    "\n",
    "from itertools import groupby\n",
    "import pandas as pd\n",
    "import numpy as np\n",
    "import matplotlib.pyplot as pp\n",
    "import time"
   ]
  },
  {
   "cell_type": "markdown",
   "id": "e2545fb9",
   "metadata": {},
   "source": [
    "suffix for saving files "
   ]
  },
  {
   "cell_type": "code",
   "execution_count": null,
   "id": "0a2a914b",
   "metadata": {},
   "outputs": [],
   "source": [
    "def output_name(in_name, suffix):\n",
    "    prefix = in_name.split('.csv')[0]\n",
    "    datetime = time.strftime(\"%Y-%m-%d_%H-%M-%S\")\n",
    "    return prefix + '_' + suffix + '_' + datetime + '.csv'"
   ]
  },
  {
   "cell_type": "markdown",
   "id": "2ec59de1",
   "metadata": {},
   "source": [
    "define fields"
   ]
  },
  {
   "cell_type": "code",
   "execution_count": null,
   "id": "7484dc2d",
   "metadata": {},
   "outputs": [],
   "source": [
    "_PART       = 'RECORDING_SESSION_LABEL'\n",
    "PART        = 'Participant'\n",
    "_TRIAL      = 'TRIAL_INDEX'\n",
    "TRIAL       = 'Trial'\n",
    "_TARGET     = 'AVERAGE_IA_1_SAMPLE_COUNT_%'\n",
    "TARGET      = 'Target'\n",
    "_FILL1      = 'AVERAGE_IA_3_SAMPLE_COUNT_%'\n",
    "FILL1       = 'Filler1'\n",
    "_COMP       = 'AVERAGE_IA_2_SAMPLE_COUNT_%'\n",
    "COMP        = 'Competitor'\n",
    "_FILL2      = 'AVERAGE_IA_4_SAMPLE_COUNT_%'\n",
    "FILL2       = 'Filler2'\n",
    "_TIME       = 'BIN_START_TIME'\n",
    "TIME        = 'Time'\n",
    "TYPE        = 'type'\n",
    "VERSION     = 'version'\n",
    "TARGET_WORD = 'target_word'\n"
   ]
  },
  {
   "cell_type": "markdown",
   "id": "82997aa7",
   "metadata": {},
   "source": [
    "define calculated fields"
   ]
  },
  {
   "cell_type": "code",
   "execution_count": null,
   "id": "f38e3aa2",
   "metadata": {},
   "outputs": [],
   "source": [
    "# calculated special\n",
    "FILLAvg    = 'Filler Average'\n",
    "NTAvg      = 'Non Target Average'\n",
    "TCAvg      = 'Target Competitor Average'\n",
    "TmC        = 'Target minus Competitor'\n",
    "TmF        = 'Target minus Filler'\n",
    "TmNT       = 'Target minus Non Target'\n",
    "TCmF       = 'Target Competitor minus Filler'"
   ]
  },
  {
   "cell_type": "markdown",
   "id": "64c4895b",
   "metadata": {},
   "source": [
    "define columns to keep when clearing up some elements"
   ]
  },
  {
   "cell_type": "code",
   "execution_count": null,
   "id": "9edec606",
   "metadata": {},
   "outputs": [],
   "source": [
    "KEEP_COLUMNS = [TIME, PART, TRIAL, TYPE, VERSION, TARGET, COMP, FILL1, FILL2, TARGET_WORD,\n",
    "                FILLAvg, NTAvg, TCAvg, TmC, TmF, TmNT, TCmF]"
   ]
  },
  {
   "cell_type": "markdown",
   "id": "8a49a04a",
   "metadata": {},
   "source": [
    "define some colors and names for plotting"
   ]
  },
  {
   "cell_type": "code",
   "execution_count": null,
   "id": "89549a4c",
   "metadata": {},
   "outputs": [],
   "source": [
    "\n",
    "TARGET_COLOR  = 'red'\n",
    "COMP_COLOR    = 'blue'\n",
    "NTargetCOLOR  = 'green'\n",
    "color_dict={COMP: COMP_COLOR, TARGET: TARGET_COLOR, NTAvg: NTargetCOLOR, FILLAvg: NTargetCOLOR, TCAvg: TARGET_COLOR}\n"
   ]
  },
  {
   "cell_type": "markdown",
   "id": "ee2712b1",
   "metadata": {},
   "source": [
    "set files names"
   ]
  },
  {
   "cell_type": "code",
   "execution_count": null,
   "id": "677a60f8",
   "metadata": {},
   "outputs": [],
   "source": [
    "F_OLD_DATA = 'data/240621_old_time_course_binning.xls.csv'\n",
    "F_OLD_TOUCH_DATA ='data/240621_old_message_report.xls.csv'\n",
    "F_YOUNG_DATA = 'data/240621_young_time_course_binning.xls.csv'\n",
    "F_YOUNG_TOUCH_DATA ='data/240621_young_message_report.xls.csv'"
   ]
  },
  {
   "cell_type": "markdown",
   "id": "6f297e7c",
   "metadata": {},
   "source": [
    "load files"
   ]
  },
  {
   "cell_type": "code",
   "execution_count": null,
   "id": "a038854e",
   "metadata": {},
   "outputs": [],
   "source": [
    "#old_data = pd.read_csv('data/240621_old_time_course_binning.xls.csv')\n",
    "#old_touch_data = pd.read_csv('data/240621_old_message_report.xls.csv')\n",
    "#young_data = pd.read_csv('data/240621_young_time_course_binning.xls.csv')\n",
    "#young_touch_data = pd.read_csv('data/240621_young_message_report.xls.csv')\n",
    "\n",
    "old_data = pd.read_csv(F_OLD_DATA)\n",
    "old_touch_data = pd.read_csv(F_OLD_TOUCH_DATA)\n",
    "young_data = pd.read_csv(F_YOUNG_DATA)\n",
    "young_touch_data = pd.read_csv(F_YOUNG_TOUCH_DATA)\n"
   ]
  },
  {
   "cell_type": "markdown",
   "id": "5939d375",
   "metadata": {},
   "source": [
    "just dumps the columns and sync columns to keep"
   ]
  },
  {
   "cell_type": "code",
   "execution_count": null,
   "id": "ed13f6db",
   "metadata": {},
   "outputs": [],
   "source": [
    "LOAD='load'\n",
    "DIGITS='DigitsCorrect'\n",
    "RESPONSE='Response'\n",
    "\n",
    "# KEEP_COLUMNS2 = [TIME, PART, TRIAL, TYPE, LOAD, DIGITS, TARGET, COMP, FILL1, FILL2, 'Response']\n",
    "old_touch_data.columns, old_data.columns"
   ]
  },
  {
   "cell_type": "code",
   "execution_count": null,
   "id": "c4d94365",
   "metadata": {},
   "outputs": [],
   "source": [
    "#young_touch_data.loc[young_touch_data.CURRENT_MSG_TEXT.str.contains(\"TRIALID \")]\n",
    "#young_touch_data.loc[(young_touch_data.TRIAL_INDEX == 5)]"
   ]
  },
  {
   "cell_type": "markdown",
   "id": "b44ec5d4",
   "metadata": {},
   "source": [
    "rename columns names"
   ]
  },
  {
   "cell_type": "code",
   "execution_count": null,
   "id": "ae72a7a3",
   "metadata": {},
   "outputs": [],
   "source": [
    "for data in [old_data, old_touch_data, young_data, young_touch_data]:\n",
    "    data.rename(columns={\n",
    "        _PART:   PART,\n",
    "        _TRIAL:  TRIAL,\n",
    "        _TARGET: TARGET,\n",
    "        _COMP:   COMP,\n",
    "        _FILL1:  FILL1,\n",
    "        _FILL2:  FILL2,\n",
    "        _TIME:   TIME\n",
    "    }, inplace=True)"
   ]
  },
  {
   "cell_type": "code",
   "execution_count": null,
   "id": "85da12cb",
   "metadata": {},
   "outputs": [],
   "source": [
    "# test plot\n",
    "old_data[old_data[TYPE] == 'b'].pivot_table(index=[TIME], values=[TARGET], aggfunc=np.average).plot()\n",
    "pp.show()"
   ]
  },
  {
   "cell_type": "markdown",
   "id": "7dcfc304",
   "metadata": {},
   "source": [
    "fix the trial column to be the numbers from 'TRIAL_LABEL' column data "
   ]
  },
  {
   "cell_type": "code",
   "execution_count": null,
   "id": "c6f596eb",
   "metadata": {},
   "outputs": [],
   "source": [
    "old_data_1 = old_data.assign(**{TRIAL: lambda x: pd.to_numeric(x['TRIAL_LABEL'].str.strip('Trial: '))})\n",
    "young_data_1 = young_data.assign(**{TRIAL: lambda x: pd.to_numeric(x['TRIAL_LABEL'].str.strip('Trial: '))})"
   ]
  },
  {
   "cell_type": "markdown",
   "id": "db580bc3",
   "metadata": {},
   "source": [
    "#### get message report offset\n",
    "\n",
    " \n",
    " read the message report and extract TOUCH_TARGET time stamp and stimuli timestamp,\n",
    " \n",
    " calculate ofset for TOUCH_TARGET from mimimum of stimuli (when multiple stimuli exists)"
   ]
  },
  {
   "cell_type": "code",
   "execution_count": null,
   "id": "a50fe08d",
   "metadata": {},
   "outputs": [],
   "source": [
    "od1 = old_touch_data\n",
    "yd1 = young_touch_data\n",
    "# od1['CURRENT_MSG_TEXT']\n",
    "# TOUCH_TARGET ==> Selection_Target\n",
    "# Stiimuli ==> Sound_Start\n",
    "    # filter messages which are not TOUCH_TARGET nor stimuli ...\n",
    "od2 = od1.loc[(od1['CURRENT_MSG_TEXT'] == 'Selection_Target') |\n",
    "              (od1['CURRENT_MSG_TEXT'].str.contains('Sound_Start'))]\n",
    "\n",
    "yd2 = yd1.loc[(yd1['CURRENT_MSG_TEXT'] == 'Selection_Target') |\n",
    "              (yd1['CURRENT_MSG_TEXT'].str.contains('Sound_Start'))]\n",
    "\n",
    "\n",
    "#od2\n",
    "\n",
    "#od2[od2['CURRENT_MSG_TEXT'].str.contains('Sound_Start')].pivot_table(\n",
    "#    index=[PART, TRIAL], values='CURRENT_MSG_TIME', aggfunc=min\n",
    "#)\n",
    "\n",
    "#od2\n"
   ]
  },
  {
   "cell_type": "code",
   "execution_count": null,
   "id": "c184be6b",
   "metadata": {},
   "outputs": [],
   "source": [
    "# show columns\n",
    "od2.columns"
   ]
  },
  {
   "cell_type": "markdown",
   "id": "d82fa0c2",
   "metadata": {},
   "source": [
    "find which trials are missing entries of stimuli touch report bundle"
   ]
  },
  {
   "cell_type": "code",
   "execution_count": null,
   "id": "9ab812dc",
   "metadata": {},
   "outputs": [],
   "source": [
    "\n",
    "od3 = od2.pivot_table(index=[PART], values=[\n",
    "     'CURRENT_MSG_TEXT'], columns=[TRIAL], aggfunc=[len])\n",
    "\n",
    "yd3 = yd2.pivot_table(index=[PART], values=[\n",
    "     'CURRENT_MSG_TEXT'], columns=[TRIAL], aggfunc=[len])\n"
   ]
  },
  {
   "cell_type": "code",
   "execution_count": null,
   "id": "c913baf0",
   "metadata": {},
   "outputs": [],
   "source": [
    "#od3, yd3"
   ]
  },
  {
   "cell_type": "code",
   "execution_count": null,
   "id": "0f536fc9",
   "metadata": {},
   "outputs": [],
   "source": [
    "\n",
    "    # pivot table to have columns for TOUCH_TARGET and Stimuli, have min value of CURRENT_MSG_TIME as the new value\n",
    "od5 = od2.pivot_table(index=[PART, TRIAL],\n",
    "                            columns=['CURRENT_MSG_TEXT'],\n",
    "                            values='CURRENT_MSG_TIME', aggfunc=min)\n",
    "\n",
    "yd5 = yd2.pivot_table(index=[PART, TRIAL],\n",
    "                            columns=['CURRENT_MSG_TEXT'],\n",
    "                            values='CURRENT_MSG_TIME', aggfunc=min)\n",
    "\n",
    "\n",
    "#od5\n",
    "    # find out missing TOUCH_TARGET trials\n",
    "#od5[od5['Selection_Target'].isnull()]"
   ]
  },
  {
   "cell_type": "code",
   "execution_count": null,
   "id": "2623fdfb",
   "metadata": {},
   "outputs": [],
   "source": [
    "    # get the int value instead of float\n",
    "od5_1 = od5[~od5['Selection_Target'].isnull()].astype(int)\n",
    "\n",
    "yd5_1 = yd5[~yd5['Selection_Target'].isnull()].astype(int)\n",
    "#od5_1"
   ]
  },
  {
   "cell_type": "code",
   "execution_count": null,
   "id": "38a3ef6c",
   "metadata": {},
   "outputs": [],
   "source": [
    "   # fill Nan as 0, set type to int and calculate offset from Stimuli to TOUCH_TARGET\n",
    "od6 = od5.fillna(0).astype(int).assign(\n",
    "        TOUCH_FIXED=lambda x: x['Selection_Target'] - x['Sound_Start'])\n",
    "\n",
    "yd6 = yd5.fillna(0).astype(int).assign(\n",
    "        TOUCH_FIXED=lambda x: x['Selection_Target'] - x['Sound_Start'])\n",
    "\n",
    "\n",
    "#od6\n"
   ]
  },
  {
   "cell_type": "code",
   "execution_count": null,
   "id": "8755dd04",
   "metadata": {},
   "outputs": [],
   "source": [
    "   # missing TOUCH_TARGET message report\n",
    "od6[od6['TOUCH_FIXED'] < 0]\n",
    "yd6[yd6['TOUCH_FIXED'] < 0]"
   ]
  },
  {
   "cell_type": "code",
   "execution_count": null,
   "id": "b8753aa9",
   "metadata": {},
   "outputs": [],
   "source": [
    "    # rename only the indexs \n",
    "od7 = od6.rename_axis([PART, TRIAL])\n",
    "yd7 = yd6.rename_axis([PART, TRIAL])\n",
    "od7\n",
    "yd7"
   ]
  },
  {
   "cell_type": "markdown",
   "id": "18290830",
   "metadata": {},
   "source": [
    "get message report offset - finished"
   ]
  },
  {
   "cell_type": "code",
   "execution_count": null,
   "id": "39eeff26",
   "metadata": {},
   "outputs": [],
   "source": [
    "\n",
    "old_touch_data_1 = od6\n",
    "young_touch_data_1 = yd6"
   ]
  },
  {
   "cell_type": "markdown",
   "id": "7da4f3f3",
   "metadata": {},
   "source": [
    "merge the data with touch data"
   ]
  },
  {
   "cell_type": "code",
   "execution_count": null,
   "id": "10c245f3",
   "metadata": {},
   "outputs": [],
   "source": [
    "old_data_with_touch = pd.merge(old_data_1.set_index([PART, TRIAL]),\n",
    "                               old_touch_data_1,\n",
    "                               on=[PART, TRIAL])\n",
    "\n",
    "young_data_with_touch = pd.merge(young_data_1.set_index([PART, TRIAL]),\n",
    "                               young_touch_data_1,\n",
    "                               on=[PART, TRIAL])"
   ]
  },
  {
   "cell_type": "code",
   "execution_count": null,
   "id": "bc3dc0a9",
   "metadata": {},
   "outputs": [],
   "source": [
    "def plot_part_trial(data2, _p, _t):\n",
    "#    (_p, _t) = (411, 9)\n",
    "    p = data2.loc[_p].loc[_t].plot(x=TIME, y=TARGET)\n",
    "    p2 = p.bar(x=data2.loc[_p].loc[_t].TOUCH_FIXED.values[0],\n",
    "               height=10, width=20, color=\"red\")\n",
    "    p3 = p.bar(x=1500, height=10, width=20, color='magenta')\n",
    "    p4 = p.bar(x=2700, height=10, width=20, color='black')\n",
    "    p.set_ylim(-10, 100)\n",
    "    p.set_title(\"Part: {}, Trial: {}, Type: {}\".format(\n",
    "        _p, _t, data2.loc[_p].loc[_t].index[0]), fontsize=TITLE_FONT_SIZE)\n",
    "    p.legend(['Target', 'cutoff {}'.format(\n",
    "        data2.loc[_p].loc[_t].TOUCH_FIXED.values[0]), 'qend: 1500', 'target: 2700'], loc='upper left',\n",
    "        fontsize=LEGEND_FONT_SIZE)"
   ]
  },
  {
   "cell_type": "code",
   "execution_count": null,
   "id": "25ebf387",
   "metadata": {},
   "outputs": [],
   "source": [
    "#old_data_with_touch\n",
    "#z=old_data_with_touch.set_index(TYPE)\n",
    "\n",
    "#p = old_data_with_touch.loc[201].loc[5].plot(x=TIME, y=TARGET)\n",
    "\n",
    "#plot_part_trial(z, 201, 5)"
   ]
  },
  {
   "cell_type": "markdown",
   "id": "bb6e8b0f",
   "metadata": {},
   "source": [
    "if we want to plot target for specific participant and trial"
   ]
  },
  {
   "cell_type": "code",
   "execution_count": null,
   "id": "633ea946",
   "metadata": {},
   "outputs": [],
   "source": [
    "# not working ATM\n",
    "#plot_part_trial(old_data_with_touch.set_index(PART, TRIAL, TYPE), 205, 5)"
   ]
  },
  {
   "cell_type": "code",
   "execution_count": null,
   "id": "d1ef0e4e",
   "metadata": {},
   "outputs": [],
   "source": [
    "odt1 = old_data_with_touch\n",
    "ydt1 = young_data_with_touch\n",
    "odt1\n",
    "ydt1"
   ]
  },
  {
   "cell_type": "markdown",
   "id": "6fa37f3f",
   "metadata": {},
   "source": [
    "plot for reference before padding and chopping"
   ]
  },
  {
   "cell_type": "code",
   "execution_count": null,
   "id": "03280ceb",
   "metadata": {},
   "outputs": [],
   "source": [
    "# old data\n",
    "#odt1[odt1[TYPE] == 'a'].pivot_table(index=[TIME], values=[TARGET], aggfunc=np.average).plot()\n",
    "#odt1[odt1[TYPE] == 'b'].pivot_table(index=[TIME], values=[TARGET], aggfunc=np.average).plot()\n",
    "#odt1[odt1[TYPE] == 'c'].pivot_table(index=[TIME], values=[TARGET], aggfunc=np.average).plot()\n",
    "#odt1[odt1[TYPE] == 'p'].pivot_table(index=[TIME], values=[TARGET], aggfunc=np.average).plot()\n",
    "\n",
    "for t in odt1[TYPE].unique():\n",
    "    odt1[odt1[TYPE] == t].pivot_table(index=[TIME], values=[TARGET], aggfunc=np.average).plot()\n",
    "    pp.title('Old Type ' + t)\n",
    "    pp.ylabel('Target Probability')\n",
    "    pp.xlabel('Time')\n",
    "    pp.rcParams['figure.figsize'] = (20.0, 10.0)\n",
    "    pp.show()\n"
   ]
  },
  {
   "cell_type": "code",
   "execution_count": null,
   "id": "449127d4",
   "metadata": {},
   "outputs": [],
   "source": [
    "# young data\n",
    "#ydt1[ydt1[TYPE] == 'a'].pivot_table(index=[TIME], values=[TARGET], aggfunc=np.average).plot()\n",
    "#ydt1[ydt1[TYPE] == 'b'].pivot_table(index=[TIME], values=[TARGET], aggfunc=np.average).plot()\n",
    "#ydt1[ydt1[TYPE] == 'c'].pivot_table(index=[TIME], values=[TARGET], aggfunc=np.average).plot()\n",
    "#ydt1[ydt1[TYPE] == 'p'].pivot_table(index=[TIME], values=[TARGET], aggfunc=np.average).plot()\n",
    "\n",
    "for t in ydt1[TYPE].unique():\n",
    "    ydt1[ydt1[TYPE] == t].pivot_table(index=[TIME], values=[TARGET], aggfunc=np.average).plot()\n",
    "    pp.title('Young Type ' + t)\n",
    "    pp.ylabel('Target Probability')\n",
    "    pp.xlabel('Time')\n",
    "    pp.rcParams['figure.figsize'] = (20.0, 10.0)\n",
    "    pp.show()"
   ]
  },
  {
   "cell_type": "markdown",
   "id": "c2f7c936",
   "metadata": {},
   "source": [
    "convert to pivot table to populate missing data cells\n",
    "\n",
    "**NOTE**: this is a long process"
   ]
  },
  {
   "cell_type": "code",
   "execution_count": null,
   "id": "b7744774",
   "metadata": {},
   "outputs": [],
   "source": [
    "%%time\n",
    "KEEP_COLUMNS2 = [LOAD, DIGITS, TARGET, COMP, FILL1, FILL2, RESPONSE, 'TOUCH_FIXED']\n",
    "\n",
    "#odt121 = odt1[odt1[TIME] <= 5000]\n",
    "#odt121 = odt121[odt121[TYPE] != 'p']\n",
    "odt121 = odt1\n",
    "ydt121 = ydt1\n",
    "\n",
    "\n",
    "#ref : https://stackoverflow.com/questions/54527175/pandas-in-pivot-table-how-to-custom-fill-missing-values#54527289\n",
    "odt122 = odt121.pivot_table(index=[PART, TRIAL, TYPE],\n",
    "                            #values=['TOUCH_FIXED', TARGET, COMP, FILL1, FILL2],\n",
    "                            values=[LOAD, DIGITS, TARGET, COMP, FILL1, FILL2, RESPONSE, 'TOUCH_FIXED'],\n",
    "                            columns=[TIME],\n",
    "                            aggfunc=lambda x:x,\n",
    "                            fill_value=None).fillna(method='ffill', axis=1)\n",
    "\n",
    "\n",
    "ydt122 = ydt121.pivot_table(index=[PART, TRIAL, TYPE],\n",
    "                            #values=['TOUCH_FIXED', TARGET, COMP, FILL1, FILL2],\n",
    "                            values=[LOAD, DIGITS, TARGET, COMP, FILL1, FILL2, RESPONSE, 'TOUCH_FIXED'],\n",
    "                            columns=[TIME],\n",
    "                            aggfunc=lambda x:x,\n",
    "                            fill_value=None).fillna(method='ffill', axis=1)\n",
    "odt122, ydt122"
   ]
  },
  {
   "cell_type": "markdown",
   "id": "a74c8e35",
   "metadata": {},
   "source": [
    "manipulate some of the data to bring it back to the original form"
   ]
  },
  {
   "cell_type": "code",
   "execution_count": null,
   "id": "70f0b5a6",
   "metadata": {},
   "outputs": [],
   "source": [
    "%%time\n",
    "\n",
    "\n",
    "# fix back from pivoted data\n",
    "odt123 = odt122.stack().astype({'TOUCH_FIXED': int, LOAD: int})\n",
    "odt124 = odt123.reset_index()\n",
    "\n",
    "ydt123 = ydt122.stack().astype({'TOUCH_FIXED': int, LOAD: int})\n",
    "ydt124 = ydt123.reset_index()\n",
    "\n",
    "odt124, ydt124"
   ]
  },
  {
   "cell_type": "markdown",
   "id": "5e7b4438",
   "metadata": {},
   "source": [
    "chop on time threshold and omit practice data"
   ]
  },
  {
   "cell_type": "code",
   "execution_count": null,
   "id": "d9c541c2",
   "metadata": {},
   "outputs": [],
   "source": [
    "%%time\n",
    "\n",
    "odt4 = odt124[odt124[TIME] <= 5000] \n",
    "odt4 = odt4[odt4[TYPE] != 'p']\n",
    "\n",
    "ydt4 = ydt124[ydt124[TIME] <= 5000] \n",
    "ydt4 = ydt4[ydt4[TYPE] != 'p']\n",
    "\n",
    "odt4, ydt4"
   ]
  },
  {
   "cell_type": "markdown",
   "id": "3621d240",
   "metadata": {},
   "source": [
    "cleanup: clean the practice type and clean the extra data generated when applying missing time bins earlier"
   ]
  },
  {
   "cell_type": "code",
   "execution_count": null,
   "id": "26182218",
   "metadata": {},
   "outputs": [],
   "source": [
    "%%time\n",
    "\n",
    "#ref: df[df['column name'].map(lambda x: str(x)!=\".\")]\n",
    "# from : https://stackoverflow.com/questions/13851535/how-to-delete-rows-from-a-pandas-dataframe-based-on-a-conditional-expression\n",
    "\n",
    "ydt41=ydt4[ydt4[TYPE] != 'p']\n",
    "ydt42=ydt41[ydt41[LOAD].map(lambda x: x != -1)]\n",
    "\n",
    "odt41=odt4[odt4[TYPE] != 'p']\n",
    "odt42=odt41[odt41[LOAD].map(lambda x: x != -1)]\n",
    "\n",
    "\n",
    "odt42,ydt42\n",
    "odt4=odt42\n",
    "ydt4=ydt42"
   ]
  },
  {
   "cell_type": "markdown",
   "id": "27347946",
   "metadata": {},
   "source": [
    "plotting the graphs"
   ]
  },
  {
   "cell_type": "code",
   "execution_count": null,
   "id": "2b12cc3a",
   "metadata": {},
   "outputs": [],
   "source": [
    "for t in odt4[TYPE].unique():\n",
    "    odt4[odt4[TYPE] == t].pivot_table(index=[TIME], values=[TARGET], aggfunc=np.average).plot()\n",
    "    pp.title('Old Type ' + t)\n",
    "    pp.ylabel('Target Probability')\n",
    "    pp.xlabel('Time')\n",
    "    pp.rcParams['figure.figsize'] = (20.0, 10.0)\n",
    "    pp.show()"
   ]
  },
  {
   "cell_type": "code",
   "execution_count": null,
   "id": "d436704b",
   "metadata": {},
   "outputs": [],
   "source": [
    "for t in ydt4[TYPE].unique():\n",
    "    ydt4[ydt4[TYPE] == t].pivot_table(index=[TIME], values=[TARGET], aggfunc=np.average).plot()\n",
    "    pp.title('Young Type ' + t)\n",
    "    pp.ylabel('Target Probability')\n",
    "    pp.xlabel('Time')\n",
    "    pp.rcParams['figure.figsize'] = (20.0, 10.0)"
   ]
  },
  {
   "cell_type": "code",
   "execution_count": null,
   "id": "7929db98",
   "metadata": {},
   "outputs": [],
   "source": [
    "odt4, ydt4"
   ]
  },
  {
   "cell_type": "markdown",
   "id": "591339ed",
   "metadata": {},
   "source": [
    "now saves the new data"
   ]
  },
  {
   "cell_type": "code",
   "execution_count": null,
   "id": "4ed32816",
   "metadata": {},
   "outputs": [],
   "source": [
    "odt4.reset_index().to_csv(output_name(F_OLD_DATA, 'padded'), index=False)\n",
    "ydt4.reset_index().to_csv(output_name(F_YOUNG_DATA, 'padded'), index=False)"
   ]
  },
  {
   "cell_type": "code",
   "execution_count": null,
   "id": "0498939a",
   "metadata": {},
   "outputs": [],
   "source": [
    "##odt5 = odt4.sort_values([PART, TRIAL, TIME])\n",
    "##odt5\n"
   ]
  },
  {
   "cell_type": "markdown",
   "id": "e8e32f7a",
   "metadata": {},
   "source": [
    "# more request\n",
    "## new file\n",
    "each part average of each type and load\n",
    "\n",
    "column order:\n",
    "* group (young, old)\n",
    "* part\n",
    "* time\n",
    "* type\n",
    "* load\n",
    "----\n",
    "* target average\n",
    "* target - all average\n",
    "* target - comp average\n"
   ]
  },
  {
   "cell_type": "code",
   "execution_count": null,
   "id": "f87735a2",
   "metadata": {},
   "outputs": [],
   "source": [
    "%%time\n",
    "oda = odt4.pivot_table(index=[TIME, PART, TYPE, LOAD],\n",
    "                      values=[TARGET, COMP, FILL1, FILL2],\n",
    "                      aggfunc=np.average)\n",
    "\n",
    "yda = ydt4.pivot_table(index=[TIME, PART, TYPE, LOAD],\n",
    "                      values=[TARGET, COMP, FILL1, FILL2],\n",
    "                      aggfunc=np.average)\n",
    "\n",
    "oda, yda\n"
   ]
  },
  {
   "cell_type": "code",
   "execution_count": null,
   "id": "c7591e21",
   "metadata": {},
   "outputs": [],
   "source": [
    "# sample flow for aggregate average over PART, TIME, TIME and LOAD \n",
    "z=odt4[odt4[PART]==201]\n",
    "z1=z[z[TYPE] == 'a']\n",
    "z1\n",
    "z2=z1[z1[TIME] == 0]\n",
    "z2=z2[z2[LOAD] == 1]\n",
    "z3 = z2.pivot_table(index=[PART, TIME, TYPE, LOAD],\n",
    "                   values=[TARGET, COMP, FILL1, FILL2],\n",
    "                   aggfunc=np.average)\n",
    "z3"
   ]
  },
  {
   "cell_type": "code",
   "execution_count": null,
   "id": "a6f8d109",
   "metadata": {},
   "outputs": [],
   "source": [
    "%%time\n",
    "\n",
    "# this is long process flow\n",
    "\n",
    "# run a look for all the batches\n",
    "# both for old and for young\n",
    "\n",
    "ototout = pd.DataFrame()\n",
    "for p in odt4[PART].unique():\n",
    "    #print(f'participant {p}')\n",
    "    dp=odt4[odt4[PART] == p]\n",
    "    for l in [1, 4]:\n",
    "        dl = dp[dp[LOAD] == l]\n",
    "        for t in dl[TIME].unique():\n",
    "            dt = dl[dl[TIME] == t]\n",
    "            dtout = dt.pivot_table(index=[PART, TIME, TYPE, LOAD],\n",
    "                                  values=[TARGET, COMP, FILL1, FILL2],\n",
    "                                  aggfunc=np.average)\n",
    "            ototout = pd.concat([ototout, dtout], axis=0)\n",
    "            \n",
    "ytotout = pd.DataFrame()\n",
    "for p in ydt4[PART].unique():\n",
    "    #print(f'participant {p}')\n",
    "    dp=ydt4[ydt4[PART] == p]\n",
    "    for l in [1, 4]:\n",
    "        dl = dp[dp[LOAD] == l]\n",
    "        for t in dl[TIME].unique():\n",
    "            dt = dl[dl[TIME] == t]\n",
    "            dtout = dt.pivot_table(index=[PART, TIME, TYPE, LOAD],\n",
    "                                  values=[TARGET, COMP, FILL1, FILL2],\n",
    "                                  aggfunc=np.average)\n",
    "            ytotout = pd.concat([ytotout, dtout], axis=0)"
   ]
  },
  {
   "cell_type": "code",
   "execution_count": null,
   "id": "fd1dc273",
   "metadata": {},
   "outputs": [],
   "source": [
    "#fixes and sorting\n",
    "oda2 = ototout.reset_index().sort_values([TYPE, LOAD, PART])\n",
    "yda2 = ytotout.reset_index().sort_values([TYPE, LOAD, PART])\n",
    "# concatentate \n",
    "out = pd.concat([yda2, oda2], axis=0, keys=['young', 'old'], names=['group'])\n",
    "# save the average file\n",
    "out.reset_index(['group']).reset_index(drop=True).to_csv('data/young_old_data_avg_custom.csv', index=False)\n"
   ]
  },
  {
   "cell_type": "code",
   "execution_count": null,
   "id": "e2031b4f",
   "metadata": {},
   "outputs": [],
   "source": [
    "oda1 = oda.reset_index().set_index([PART, TIME, TYPE]).sort_values([TYPE])\n",
    "yda1 = yda.reset_index().set_index([PART, TIME, TYPE]).sort_values([TYPE])\n",
    "oda1, yda1\n",
    "out = pd.concat([yda1, oda1], axis=0, keys=['young', 'old'], names=['group'])\n",
    "out\n",
    "\n",
    "#out.reset_index().to_csv(output_name('data/young_old.csv', 'avg'), index=False)"
   ]
  },
  {
   "cell_type": "markdown",
   "id": "9c76822a",
   "metadata": {},
   "source": [
    "save the avgerage as csv"
   ]
  },
  {
   "cell_type": "code",
   "execution_count": null,
   "id": "6dd956b1",
   "metadata": {},
   "outputs": [],
   "source": [
    "oda.reset_index().to_csv(output_name(F_OLD_DATA, 'avg'), index=False)\n",
    "yda.reset_index().to_csv(output_name(F_YOUNG_DATA, 'avg'), index=False)\n"
   ]
  },
  {
   "cell_type": "code",
   "execution_count": null,
   "id": "6a3a652b",
   "metadata": {},
   "outputs": [],
   "source": [
    "oda.reset_index().pivot_table(index=[TIME, LOAD], values=[TARGET, COMP, FILL1, FILL2]).plot()\n",
    "pp.show()\n",
    "yda.reset_index().pivot_table(index=[TIME, LOAD], values=[TARGET, COMP, FILL1, FILL2]).plot()\n",
    "pp.show()"
   ]
  },
  {
   "cell_type": "code",
   "execution_count": null,
   "id": "550d9c91",
   "metadata": {},
   "outputs": [],
   "source": [
    "oda.reset_index().pivot_table(index=[TIME], columns=[LOAD], values=[TARGET, COMP, FILL1, FILL2]).plot()\n",
    "pp.title('Old Load Average')\n",
    "pp.ylabel('Probability')\n",
    "pp.xlabel('Time')\n",
    "pp.rcParams['figure.figsize'] = (20.0, 10.0)\n",
    "pp.show()\n",
    "\n",
    "yda.reset_index().pivot_table(index=[TIME], columns=[LOAD], values=[TARGET, COMP, FILL1, FILL2]).plot()\n",
    "pp.title('Young Type ' + t)\n",
    "pp.ylabel('Probability')\n",
    "pp.xlabel('Time')\n",
    "pp.rcParams['figure.figsize'] = (20.0, 10.0)\n",
    "pp.show()"
   ]
  }
 ],
 "metadata": {
  "kernelspec": {
   "display_name": "Python 3",
   "language": "python",
   "name": "python3"
  },
  "language_info": {
   "codemirror_mode": {
    "name": "ipython",
    "version": 3
   },
   "file_extension": ".py",
   "mimetype": "text/x-python",
   "name": "python",
   "nbconvert_exporter": "python",
   "pygments_lexer": "ipython3",
   "version": "3.9.5"
  }
 },
 "nbformat": 4,
 "nbformat_minor": 5
}
